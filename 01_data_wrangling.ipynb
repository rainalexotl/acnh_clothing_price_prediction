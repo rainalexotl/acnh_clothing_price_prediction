{
 "cells": [
  {
   "cell_type": "markdown",
   "metadata": {},
   "source": [
    "Load and combine raw datasets.\\\n",
    "The individual datasets can be found here: [Kaggle - Animal Crossing New Horizons Catalog](https://www.kaggle.com/datasets/jessicali9530/animal-crossing-new-horizons-nookplaza-dataset)"
   ]
  },
  {
   "cell_type": "code",
   "execution_count": 1,
   "metadata": {},
   "outputs": [
    {
     "name": "stderr",
     "output_type": "stream",
     "text": [
      "/Users/rainalex/anaconda3/lib/python3.10/site-packages/pandas/core/arrays/masked.py:60: UserWarning: Pandas requires version '1.3.6' or newer of 'bottleneck' (version '1.3.5' currently installed).\n",
      "  from pandas.core import (\n"
     ]
    }
   ],
   "source": [
    "import pandas as pd\n",
    "\n",
    "pd.set_option('display.max_columns', None)\n",
    "pd.set_option('display.max_rows', 25)\n",
    "\n",
    "import warnings\n",
    "warnings.filterwarnings('ignore')"
   ]
  },
  {
   "cell_type": "code",
   "execution_count": 2,
   "metadata": {},
   "outputs": [],
   "source": [
    "df_acc = pd.read_csv('./data/accessories.csv')\n",
    "df_bag = pd.read_csv('./data/bags.csv')\n",
    "df_bottom = pd.read_csv('./data/bottoms.csv')\n",
    "df_dress = pd.read_csv('./data/dresses.csv')\n",
    "df_shoe = pd.read_csv('./data/shoes.csv')\n",
    "df_sock = pd.read_csv('./data/socks.csv')\n",
    "df_top = pd.read_csv('./data/tops.csv')"
   ]
  },
  {
   "cell_type": "markdown",
   "metadata": {},
   "source": [
    "## Columns"
   ]
  },
  {
   "cell_type": "code",
   "execution_count": 3,
   "metadata": {},
   "outputs": [
    {
     "data": {
      "text/plain": [
       "Index(['Name', 'Variation', 'DIY', 'Buy', 'Sell', 'Color 1', 'Color 2', 'Size',\n",
       "       'Miles Price', 'Source', 'Source Notes', 'Seasonal Availability',\n",
       "       'Mannequin Piece', 'Version', 'Style', 'Label Themes', 'Type',\n",
       "       'Villager Equippable', 'Catalog', 'Filename', 'Internal ID',\n",
       "       'Unique Entry ID'],\n",
       "      dtype='object')"
      ]
     },
     "execution_count": 3,
     "metadata": {},
     "output_type": "execute_result"
    }
   ],
   "source": [
    "df_acc.columns"
   ]
  },
  {
   "cell_type": "code",
   "execution_count": 4,
   "metadata": {},
   "outputs": [
    {
     "data": {
      "text/plain": [
       "Index(['Name', 'Variation', 'DIY', 'Buy', 'Sell', 'Color 1', 'Color 2', 'Size',\n",
       "       'Miles Price', 'Source', 'Source Notes', 'Seasonal Availability',\n",
       "       'Version', 'Style', 'Label Themes', 'Villager Equippable', 'Catalog',\n",
       "       'Filename', 'Internal ID', 'Unique Entry ID'],\n",
       "      dtype='object')"
      ]
     },
     "execution_count": 4,
     "metadata": {},
     "output_type": "execute_result"
    }
   ],
   "source": [
    "df_bag.columns"
   ]
  },
  {
   "cell_type": "code",
   "execution_count": 5,
   "metadata": {},
   "outputs": [
    {
     "data": {
      "text/plain": [
       "Index(['Name', 'Variation', 'DIY', 'Buy', 'Sell', 'Color 1', 'Color 2', 'Size',\n",
       "       'Source', 'Source Notes', 'Seasonal Availability', 'Mannequin Piece',\n",
       "       'Version', 'Style', 'Label Themes', 'Villager Equippable', 'Catalog',\n",
       "       'Filename', 'Internal ID', 'Unique Entry ID'],\n",
       "      dtype='object')"
      ]
     },
     "execution_count": 5,
     "metadata": {},
     "output_type": "execute_result"
    }
   ],
   "source": [
    "df_bottom.columns"
   ]
  },
  {
   "cell_type": "code",
   "execution_count": 6,
   "metadata": {},
   "outputs": [
    {
     "data": {
      "text/plain": [
       "Index(['Name', 'Variation', 'DIY', 'Buy', 'Sell', 'Color 1', 'Color 2', 'Size',\n",
       "       'Source', 'Source Notes', 'Seasonal Availability', 'Mannequin Piece',\n",
       "       'Version', 'Style', 'Label Themes', 'Villager Equippable', 'Catalog',\n",
       "       'Primary Shape', 'Secondary Shape', 'Filename', 'Internal ID',\n",
       "       'Unique Entry ID'],\n",
       "      dtype='object')"
      ]
     },
     "execution_count": 6,
     "metadata": {},
     "output_type": "execute_result"
    }
   ],
   "source": [
    "df_dress.columns"
   ]
  },
  {
   "cell_type": "code",
   "execution_count": 7,
   "metadata": {},
   "outputs": [
    {
     "data": {
      "text/plain": [
       "Index(['Name', 'Variation', 'DIY', 'Buy', 'Sell', 'Color 1', 'Color 2', 'Size',\n",
       "       'Miles Price', 'Source', 'Source Notes', 'Seasonal Availability',\n",
       "       'Mannequin Piece', 'Version', 'Style', 'Label Themes',\n",
       "       'Villager Equippable', 'Catalog', 'Filename', 'Internal ID',\n",
       "       'Unique Entry ID'],\n",
       "      dtype='object')"
      ]
     },
     "execution_count": 7,
     "metadata": {},
     "output_type": "execute_result"
    }
   ],
   "source": [
    "df_shoe.columns"
   ]
  },
  {
   "cell_type": "code",
   "execution_count": 8,
   "metadata": {},
   "outputs": [
    {
     "data": {
      "text/plain": [
       "Index(['Name', 'Variation', 'DIY', 'Buy', 'Sell', 'Color 1', 'Color 2', 'Size',\n",
       "       'Miles Price', 'Source', 'Source Notes', 'Seasonal Availability',\n",
       "       'Mannequin Piece', 'Version', 'Style', 'Label Themes',\n",
       "       'Villager Equippable', 'Catalog', 'Filename', 'Internal ID',\n",
       "       'Unique Entry ID'],\n",
       "      dtype='object')"
      ]
     },
     "execution_count": 8,
     "metadata": {},
     "output_type": "execute_result"
    }
   ],
   "source": [
    "df_sock.columns"
   ]
  },
  {
   "cell_type": "code",
   "execution_count": 9,
   "metadata": {},
   "outputs": [
    {
     "data": {
      "text/plain": [
       "Index(['Name', 'Variation', 'DIY', 'Buy', 'Sell', 'Color 1', 'Color 2', 'Size',\n",
       "       'Miles Price', 'Source', 'Source Notes', 'Seasonal Availability',\n",
       "       'Mannequin Piece', 'Version', 'Style', 'Label Themes',\n",
       "       'Villager Equippable', 'Catalog', 'Filename', 'Internal ID',\n",
       "       'Unique Entry ID'],\n",
       "      dtype='object')"
      ]
     },
     "execution_count": 9,
     "metadata": {},
     "output_type": "execute_result"
    }
   ],
   "source": [
    "df_top.columns"
   ]
  },
  {
   "cell_type": "code",
   "execution_count": 10,
   "metadata": {},
   "outputs": [],
   "source": [
    "df_acc['Category'] = 'accessories'\n",
    "df_bag['Category'] = 'bags'\n",
    "df_bottom['Category'] = 'bottoms'\n",
    "df_dress['Category'] = 'dresses'\n",
    "df_shoe['Category'] = 'shoes'\n",
    "df_sock['Category'] = 'socks'\n",
    "df_top['Category'] = 'tops'"
   ]
  },
  {
   "cell_type": "code",
   "execution_count": 11,
   "metadata": {},
   "outputs": [],
   "source": [
    "selected_cols = ['Name', 'Category', 'Variation', 'DIY', 'Buy', 'Sell', 'Color 1', \n",
    "                 'Color 2', 'Source', 'Seasonal Availability', 'Mannequin Piece', \n",
    "                 'Style', 'Villager Equippable']"
   ]
  },
  {
   "cell_type": "markdown",
   "metadata": {},
   "source": [
    "## Concatenate Dataframes"
   ]
  },
  {
   "cell_type": "code",
   "execution_count": 12,
   "metadata": {},
   "outputs": [],
   "source": [
    "df = pd.concat([df_acc, df_bag, df_bottom, df_dress, df_shoe, df_sock, df_top])"
   ]
  },
  {
   "cell_type": "code",
   "execution_count": 13,
   "metadata": {},
   "outputs": [],
   "source": [
    "df = df[selected_cols]"
   ]
  },
  {
   "cell_type": "code",
   "execution_count": 14,
   "metadata": {},
   "outputs": [
    {
     "data": {
      "text/html": [
       "<div>\n",
       "<style scoped>\n",
       "    .dataframe tbody tr th:only-of-type {\n",
       "        vertical-align: middle;\n",
       "    }\n",
       "\n",
       "    .dataframe tbody tr th {\n",
       "        vertical-align: top;\n",
       "    }\n",
       "\n",
       "    .dataframe thead th {\n",
       "        text-align: right;\n",
       "    }\n",
       "</style>\n",
       "<table border=\"1\" class=\"dataframe\">\n",
       "  <thead>\n",
       "    <tr style=\"text-align: right;\">\n",
       "      <th></th>\n",
       "      <th>Name</th>\n",
       "      <th>Category</th>\n",
       "      <th>Variation</th>\n",
       "      <th>DIY</th>\n",
       "      <th>Buy</th>\n",
       "      <th>Sell</th>\n",
       "      <th>Color 1</th>\n",
       "      <th>Color 2</th>\n",
       "      <th>Source</th>\n",
       "      <th>Seasonal Availability</th>\n",
       "      <th>Mannequin Piece</th>\n",
       "      <th>Style</th>\n",
       "      <th>Villager Equippable</th>\n",
       "    </tr>\n",
       "  </thead>\n",
       "  <tbody>\n",
       "    <tr>\n",
       "      <th>0</th>\n",
       "      <td>3D glasses</td>\n",
       "      <td>accessories</td>\n",
       "      <td>White</td>\n",
       "      <td>No</td>\n",
       "      <td>490</td>\n",
       "      <td>122</td>\n",
       "      <td>White</td>\n",
       "      <td>Colorful</td>\n",
       "      <td>Able Sisters</td>\n",
       "      <td>All Year</td>\n",
       "      <td>No</td>\n",
       "      <td>Active</td>\n",
       "      <td>Yes</td>\n",
       "    </tr>\n",
       "    <tr>\n",
       "      <th>1</th>\n",
       "      <td>3D glasses</td>\n",
       "      <td>accessories</td>\n",
       "      <td>Black</td>\n",
       "      <td>No</td>\n",
       "      <td>490</td>\n",
       "      <td>122</td>\n",
       "      <td>Black</td>\n",
       "      <td>Colorful</td>\n",
       "      <td>Able Sisters</td>\n",
       "      <td>All Year</td>\n",
       "      <td>No</td>\n",
       "      <td>Active</td>\n",
       "      <td>Yes</td>\n",
       "    </tr>\n",
       "    <tr>\n",
       "      <th>2</th>\n",
       "      <td>bandage</td>\n",
       "      <td>accessories</td>\n",
       "      <td>Beige</td>\n",
       "      <td>No</td>\n",
       "      <td>140</td>\n",
       "      <td>35</td>\n",
       "      <td>Beige</td>\n",
       "      <td>White</td>\n",
       "      <td>Able Sisters</td>\n",
       "      <td>All Year</td>\n",
       "      <td>Yes</td>\n",
       "      <td>Active</td>\n",
       "      <td>No</td>\n",
       "    </tr>\n",
       "    <tr>\n",
       "      <th>3</th>\n",
       "      <td>beak</td>\n",
       "      <td>accessories</td>\n",
       "      <td>Yellow</td>\n",
       "      <td>No</td>\n",
       "      <td>490</td>\n",
       "      <td>122</td>\n",
       "      <td>Yellow</td>\n",
       "      <td>Yellow</td>\n",
       "      <td>Able Sisters</td>\n",
       "      <td>All Year</td>\n",
       "      <td>Yes</td>\n",
       "      <td>Cute</td>\n",
       "      <td>No</td>\n",
       "    </tr>\n",
       "    <tr>\n",
       "      <th>4</th>\n",
       "      <td>birthday shades</td>\n",
       "      <td>accessories</td>\n",
       "      <td>Yellow</td>\n",
       "      <td>No</td>\n",
       "      <td>NFS</td>\n",
       "      <td>620</td>\n",
       "      <td>Yellow</td>\n",
       "      <td>Red</td>\n",
       "      <td>Birthday</td>\n",
       "      <td>All Year</td>\n",
       "      <td>No</td>\n",
       "      <td>Gorgeous</td>\n",
       "      <td>Yes</td>\n",
       "    </tr>\n",
       "  </tbody>\n",
       "</table>\n",
       "</div>"
      ],
      "text/plain": [
       "              Name     Category Variation DIY  Buy  Sell Color 1   Color 2  \\\n",
       "0       3D glasses  accessories     White  No  490   122   White  Colorful   \n",
       "1       3D glasses  accessories     Black  No  490   122   Black  Colorful   \n",
       "2          bandage  accessories     Beige  No  140    35   Beige     White   \n",
       "3             beak  accessories    Yellow  No  490   122  Yellow    Yellow   \n",
       "4  birthday shades  accessories    Yellow  No  NFS   620  Yellow       Red   \n",
       "\n",
       "         Source Seasonal Availability Mannequin Piece     Style  \\\n",
       "0  Able Sisters              All Year              No    Active   \n",
       "1  Able Sisters              All Year              No    Active   \n",
       "2  Able Sisters              All Year             Yes    Active   \n",
       "3  Able Sisters              All Year             Yes      Cute   \n",
       "4      Birthday              All Year              No  Gorgeous   \n",
       "\n",
       "  Villager Equippable  \n",
       "0                 Yes  \n",
       "1                 Yes  \n",
       "2                  No  \n",
       "3                  No  \n",
       "4                 Yes  "
      ]
     },
     "execution_count": 14,
     "metadata": {},
     "output_type": "execute_result"
    }
   ],
   "source": [
    "df.head()"
   ]
  },
  {
   "cell_type": "code",
   "execution_count": 15,
   "metadata": {},
   "outputs": [],
   "source": [
    "df.to_csv('./data/combined_data.csv', index=False)"
   ]
  },
  {
   "cell_type": "code",
   "execution_count": null,
   "metadata": {},
   "outputs": [],
   "source": []
  }
 ],
 "metadata": {
  "kernelspec": {
   "display_name": "base",
   "language": "python",
   "name": "python3"
  },
  "language_info": {
   "codemirror_mode": {
    "name": "ipython",
    "version": 3
   },
   "file_extension": ".py",
   "mimetype": "text/x-python",
   "name": "python",
   "nbconvert_exporter": "python",
   "pygments_lexer": "ipython3",
   "version": "3.10.9"
  }
 },
 "nbformat": 4,
 "nbformat_minor": 2
}

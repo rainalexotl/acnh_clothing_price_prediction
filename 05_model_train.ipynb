{
 "cells": [
  {
   "cell_type": "code",
   "execution_count": null,
   "metadata": {},
   "outputs": [
    {
     "name": "stderr",
     "output_type": "stream",
     "text": [
      "/Users/rainalex/anaconda3/lib/python3.10/site-packages/pandas/core/arrays/masked.py:60: UserWarning: Pandas requires version '1.3.6' or newer of 'bottleneck' (version '1.3.5' currently installed).\n",
      "  from pandas.core import (\n"
     ]
    }
   ],
   "source": [
    "import torch\n",
    "import torch.nn as nn\n",
    "\n",
    "import seaborn as sns\n",
    "sns.set_theme()\n",
    "\n",
    "import joblib\n",
    "import json\n",
    "import csv\n",
    "from datetime import datetime\n",
    "\n",
    "from models.acnh_model import ACNHModel"
   ]
  },
  {
   "cell_type": "markdown",
   "metadata": {},
   "source": [
    "LOAD DATA\\\n",
    "Data is already shuffled\\\n",
    "y files are already scaled (see 04_preprocessing.ipynb)"
   ]
  },
  {
   "cell_type": "code",
   "execution_count": 2,
   "metadata": {},
   "outputs": [],
   "source": [
    "X_train, X_test, y_train, y_test = joblib.load('./data/preprocessed/train_test_data.pkl')"
   ]
  },
  {
   "cell_type": "markdown",
   "metadata": {},
   "source": [
    "# Convert to tensors"
   ]
  },
  {
   "cell_type": "code",
   "execution_count": 3,
   "metadata": {},
   "outputs": [],
   "source": [
    "X_train = torch.LongTensor(X_train)\n",
    "X_test = torch.LongTensor(X_test)\n",
    "y_train = torch.FloatTensor(y_train)\n",
    "y_test = torch.FloatTensor(y_test)\n"
   ]
  },
  {
   "cell_type": "markdown",
   "metadata": {},
   "source": [
    "# Load embedding sizes"
   ]
  },
  {
   "cell_type": "code",
   "execution_count": 4,
   "metadata": {},
   "outputs": [],
   "source": [
    "emb_sizes = joblib.load(\"data/preprocessed/embedding_sizes.pkl\")"
   ]
  },
  {
   "cell_type": "markdown",
   "metadata": {},
   "source": [
    "# Model Definition"
   ]
  },
  {
   "cell_type": "code",
   "execution_count": 5,
   "metadata": {},
   "outputs": [
    {
     "data": {
      "text/plain": [
       "<torch._C.Generator at 0x7fbbb9808530>"
      ]
     },
     "execution_count": 5,
     "metadata": {},
     "output_type": "execute_result"
    }
   ],
   "source": [
    "# SET RANDOM SEED\n",
    "torch.manual_seed(2)"
   ]
  },
  {
   "cell_type": "code",
   "execution_count": 6,
   "metadata": {},
   "outputs": [],
   "source": [
    "model = ACNHModel(out_features=1, emb_sizes=emb_sizes, layers=[100, 50], drop_p=0.4)"
   ]
  },
  {
   "cell_type": "code",
   "execution_count": 7,
   "metadata": {},
   "outputs": [],
   "source": [
    "criterion = nn.MSELoss()\n",
    "optimizer = torch.optim.Adam(model.parameters(), lr=0.001)"
   ]
  },
  {
   "cell_type": "code",
   "execution_count": 8,
   "metadata": {},
   "outputs": [
    {
     "data": {
      "text/plain": [
       "ACNHModel(\n",
       "  (embed): ModuleList(\n",
       "    (0): Embedding(8, 4)\n",
       "    (1): Embedding(3, 1)\n",
       "    (2-3): 2 x Embedding(15, 7)\n",
       "    (4): Embedding(16, 8)\n",
       "    (5): Embedding(6, 3)\n",
       "    (6): Embedding(3, 1)\n",
       "    (7): Embedding(7, 3)\n",
       "    (8): Embedding(3, 1)\n",
       "  )\n",
       "  (embed_drop): Dropout(p=0.4, inplace=False)\n",
       "  (layers): Sequential(\n",
       "    (0): Linear(in_features=35, out_features=100, bias=True)\n",
       "    (1): ReLU(inplace=True)\n",
       "    (2): BatchNorm1d(100, eps=1e-05, momentum=0.1, affine=True, track_running_stats=True)\n",
       "    (3): Dropout(p=0.4, inplace=False)\n",
       "    (4): Linear(in_features=100, out_features=50, bias=True)\n",
       "    (5): ReLU(inplace=True)\n",
       "    (6): BatchNorm1d(50, eps=1e-05, momentum=0.1, affine=True, track_running_stats=True)\n",
       "    (7): Dropout(p=0.4, inplace=False)\n",
       "    (8): Linear(in_features=50, out_features=1, bias=True)\n",
       "  )\n",
       ")"
      ]
     },
     "execution_count": 8,
     "metadata": {},
     "output_type": "execute_result"
    }
   ],
   "source": [
    "model"
   ]
  },
  {
   "cell_type": "markdown",
   "metadata": {},
   "source": [
    "## Model Training"
   ]
  },
  {
   "cell_type": "code",
   "execution_count": 9,
   "metadata": {},
   "outputs": [],
   "source": [
    "def train(model, x_train, y_train, x_test, y_test, epochs=300):\n",
    "    losses = []\n",
    "    val_losses = []\n",
    "\n",
    "    for i in range(epochs):\n",
    "\n",
    "        train_preds = model(x_train)\n",
    "        loss = criterion(train_preds, y_train)\n",
    "        losses.append(loss.item())\n",
    "\n",
    "        val_preds = model(x_test)\n",
    "        val_loss = criterion(val_preds, y_test)\n",
    "        val_losses.append(val_loss.item())\n",
    "\n",
    "        if i % 25 == 0:\n",
    "            print(f\"Epoch {i:8}\\ttrain loss={loss}\\tval loss={val_loss}\")\n",
    "\n",
    "        optimizer.zero_grad()\n",
    "        loss.backward()\n",
    "        optimizer.step()\n",
    "\n",
    "    return losses, val_losses"
   ]
  },
  {
   "cell_type": "code",
   "execution_count": 10,
   "metadata": {},
   "outputs": [
    {
     "name": "stdout",
     "output_type": "stream",
     "text": [
      "Epoch        0\ttrain loss=0.8156531453132629\tval loss=0.8331785202026367\n",
      "Epoch       25\ttrain loss=0.3247213661670685\tval loss=0.3493874967098236\n",
      "Epoch       50\ttrain loss=0.22409014403820038\tval loss=0.23873434960842133\n",
      "Epoch       75\ttrain loss=0.1763715296983719\tval loss=0.1635473519563675\n",
      "Epoch      100\ttrain loss=0.1405467689037323\tval loss=0.1365043669939041\n",
      "Epoch      125\ttrain loss=0.11193433403968811\tval loss=0.11571843177080154\n",
      "Epoch      150\ttrain loss=0.09427159279584885\tval loss=0.08960340917110443\n",
      "Epoch      175\ttrain loss=0.08045601099729538\tval loss=0.07458320260047913\n",
      "Epoch      200\ttrain loss=0.0641314834356308\tval loss=0.06748109310865402\n",
      "Epoch      225\ttrain loss=0.05818350613117218\tval loss=0.060415029525756836\n",
      "Epoch      250\ttrain loss=0.05373617634177208\tval loss=0.05337299779057503\n",
      "Epoch      275\ttrain loss=0.0490170419216156\tval loss=0.048016756772994995\n"
     ]
    }
   ],
   "source": [
    "losses, val_losses = train(model, X_train, y_train, X_test, y_test, epochs=300)"
   ]
  },
  {
   "cell_type": "markdown",
   "metadata": {},
   "source": [
    "# Evaluation"
   ]
  },
  {
   "cell_type": "code",
   "execution_count": 11,
   "metadata": {},
   "outputs": [],
   "source": [
    "model.eval();"
   ]
  },
  {
   "cell_type": "code",
   "execution_count": 12,
   "metadata": {},
   "outputs": [],
   "source": [
    "import warnings\n",
    "warnings.filterwarnings('ignore')"
   ]
  },
  {
   "cell_type": "code",
   "execution_count": 13,
   "metadata": {},
   "outputs": [
    {
     "data": {
      "text/plain": [
       "<Axes: >"
      ]
     },
     "execution_count": 13,
     "metadata": {},
     "output_type": "execute_result"
    },
    {
     "data": {
      "image/png": "[encoded data removed]",
      "text/plain": [
       "<Figure size 640x480 with 1 Axes>"
      ]
     },
     "metadata": {},
     "output_type": "display_data"
    }
   ],
   "source": [
    "sns.lineplot(losses)\n",
    "sns.lineplot(val_losses)"
   ]
  },
  {
   "cell_type": "code",
   "execution_count": null,
   "metadata": {},
   "outputs": [],
   "source": []
  },
  {
   "cell_type": "code",
   "execution_count": 14,
   "metadata": {},
   "outputs": [],
   "source": [
    "with torch.no_grad():\n",
    "    val_preds = model(X_test)\n",
    "    final_val_loss = criterion(val_preds, y_test)\n",
    "    train_preds = model(X_train)\n",
    "    final_train_loss = criterion(train_preds, y_train)"
   ]
  },
  {
   "cell_type": "markdown",
   "metadata": {},
   "source": [
    "# Save model"
   ]
  },
  {
   "cell_type": "code",
   "execution_count": null,
   "metadata": {},
   "outputs": [],
   "source": [
    "# Save pytorch model\n",
    "curr_time = '{:%Y-%m-%d_%H:%M:%S}'.format(datetime.now())\n",
    "torch.save(model.state_dict(), f\"models/versions/model_{curr_time}.pt\")"
   ]
  },
  {
   "cell_type": "code",
   "execution_count": null,
   "metadata": {},
   "outputs": [],
   "source": [
    "# Save config as json\n",
    "config_path = f'models/configs/{curr_time}.json'\n",
    "model_config = {\n",
    "    'learning_rate': 0.001,\n",
    "    'dropout': 0.4,\n",
    "    'hidden_sizes': [100, 50],\n",
    "    'epochs': 300\n",
    "}\n",
    "with open(config_path, 'w') as f:\n",
    "    json.dump(model_config, f)"
   ]
  },
  {
   "cell_type": "code",
   "execution_count": null,
   "metadata": {},
   "outputs": [],
   "source": [
    "# Update model log\n",
    "config_str = json.dumps(model_config)\n",
    "row = {\n",
    "    'datetime': curr_time,\n",
    "    'params': config_str,\n",
    "    'train_loss': final_train_loss,\n",
    "    'val_loss': final_val_loss,\n",
    "    'notes': 'baseline - good generalization'\n",
    "}\n",
    "\n",
    "log_path = 'models/model_versions_log.csv'\n",
    "\n",
    "with open(log_path, mode='a') as f:\n",
    "    writer = csv.DictWriter(f, fieldnames=row.keys())\n",
    "    writer.writerow(row) "
   ]
  },
  {
   "cell_type": "code",
   "execution_count": 149,
   "metadata": {},
   "outputs": [],
   "source": [
    "# json.loads(tmp.loc[0, 'params'])"
   ]
  },
  {
   "cell_type": "code",
   "execution_count": null,
   "metadata": {},
   "outputs": [],
   "source": []
  }
 ],
 "metadata": {
  "kernelspec": {
   "display_name": "base",
   "language": "python",
   "name": "python3"
  },
  "language_info": {
   "codemirror_mode": {
    "name": "ipython",
    "version": 3
   },
   "file_extension": ".py",
   "mimetype": "text/x-python",
   "name": "python",
   "nbconvert_exporter": "python",
   "pygments_lexer": "ipython3",
   "version": "3.10.9"
  }
 },
 "nbformat": 4,
 "nbformat_minor": 2
}

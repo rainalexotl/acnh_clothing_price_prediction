{
 "cells": [
  {
   "cell_type": "markdown",
   "metadata": {},
   "source": [
    "Encode categorical variables (e.g. .cat.codes). Feature engineering. Scale/normalize numerical data. Split train/test sets. Save scalers, encoders, mappings"
   ]
  },
  {
   "cell_type": "code",
   "execution_count": 1,
   "metadata": {},
   "outputs": [
    {
     "name": "stderr",
     "output_type": "stream",
     "text": [
      "/Users/rainalex/anaconda3/lib/python3.10/site-packages/pandas/core/arrays/masked.py:60: UserWarning: Pandas requires version '1.3.6' or newer of 'bottleneck' (version '1.3.5' currently installed).\n",
      "  from pandas.core import (\n"
     ]
    }
   ],
   "source": [
    "import pandas as pd\n",
    "import numpy as np\n",
    "\n",
    "from sklearn.model_selection import train_test_split\n",
    "from sklearn.preprocessing import MinMaxScaler\n",
    "\n",
    "import joblib"
   ]
  },
  {
   "cell_type": "code",
   "execution_count": 2,
   "metadata": {},
   "outputs": [
    {
     "data": {
      "text/html": [
       "<div>\n",
       "<style scoped>\n",
       "    .dataframe tbody tr th:only-of-type {\n",
       "        vertical-align: middle;\n",
       "    }\n",
       "\n",
       "    .dataframe tbody tr th {\n",
       "        vertical-align: top;\n",
       "    }\n",
       "\n",
       "    .dataframe thead th {\n",
       "        text-align: right;\n",
       "    }\n",
       "</style>\n",
       "<table border=\"1\" class=\"dataframe\">\n",
       "  <thead>\n",
       "    <tr style=\"text-align: right;\">\n",
       "      <th></th>\n",
       "      <th>Category</th>\n",
       "      <th>DIY</th>\n",
       "      <th>Sell</th>\n",
       "      <th>Color 1</th>\n",
       "      <th>Color 2</th>\n",
       "      <th>Source</th>\n",
       "      <th>Seasonal Availability</th>\n",
       "      <th>Mannequin Piece</th>\n",
       "      <th>Style</th>\n",
       "      <th>Villager Equippable</th>\n",
       "    </tr>\n",
       "  </thead>\n",
       "  <tbody>\n",
       "    <tr>\n",
       "      <th>0</th>\n",
       "      <td>accessories</td>\n",
       "      <td>No</td>\n",
       "      <td>122</td>\n",
       "      <td>White</td>\n",
       "      <td>Colorful</td>\n",
       "      <td>Able Sisters</td>\n",
       "      <td>All Year</td>\n",
       "      <td>No</td>\n",
       "      <td>Active</td>\n",
       "      <td>Yes</td>\n",
       "    </tr>\n",
       "    <tr>\n",
       "      <th>1</th>\n",
       "      <td>accessories</td>\n",
       "      <td>No</td>\n",
       "      <td>122</td>\n",
       "      <td>Black</td>\n",
       "      <td>Colorful</td>\n",
       "      <td>Able Sisters</td>\n",
       "      <td>All Year</td>\n",
       "      <td>No</td>\n",
       "      <td>Active</td>\n",
       "      <td>Yes</td>\n",
       "    </tr>\n",
       "    <tr>\n",
       "      <th>2</th>\n",
       "      <td>accessories</td>\n",
       "      <td>No</td>\n",
       "      <td>35</td>\n",
       "      <td>Beige</td>\n",
       "      <td>White</td>\n",
       "      <td>Able Sisters</td>\n",
       "      <td>All Year</td>\n",
       "      <td>Yes</td>\n",
       "      <td>Active</td>\n",
       "      <td>No</td>\n",
       "    </tr>\n",
       "    <tr>\n",
       "      <th>3</th>\n",
       "      <td>accessories</td>\n",
       "      <td>No</td>\n",
       "      <td>122</td>\n",
       "      <td>Yellow</td>\n",
       "      <td>Yellow</td>\n",
       "      <td>Able Sisters</td>\n",
       "      <td>All Year</td>\n",
       "      <td>Yes</td>\n",
       "      <td>Cute</td>\n",
       "      <td>No</td>\n",
       "    </tr>\n",
       "    <tr>\n",
       "      <th>4</th>\n",
       "      <td>accessories</td>\n",
       "      <td>No</td>\n",
       "      <td>620</td>\n",
       "      <td>Yellow</td>\n",
       "      <td>Red</td>\n",
       "      <td>Birthday</td>\n",
       "      <td>All Year</td>\n",
       "      <td>No</td>\n",
       "      <td>Gorgeous</td>\n",
       "      <td>Yes</td>\n",
       "    </tr>\n",
       "  </tbody>\n",
       "</table>\n",
       "</div>"
      ],
      "text/plain": [
       "      Category DIY  Sell Color 1   Color 2        Source  \\\n",
       "0  accessories  No   122   White  Colorful  Able Sisters   \n",
       "1  accessories  No   122   Black  Colorful  Able Sisters   \n",
       "2  accessories  No    35   Beige     White  Able Sisters   \n",
       "3  accessories  No   122  Yellow    Yellow  Able Sisters   \n",
       "4  accessories  No   620  Yellow       Red      Birthday   \n",
       "\n",
       "  Seasonal Availability Mannequin Piece     Style Villager Equippable  \n",
       "0              All Year              No    Active                 Yes  \n",
       "1              All Year              No    Active                 Yes  \n",
       "2              All Year             Yes    Active                  No  \n",
       "3              All Year             Yes      Cute                  No  \n",
       "4              All Year              No  Gorgeous                 Yes  "
      ]
     },
     "execution_count": 2,
     "metadata": {},
     "output_type": "execute_result"
    }
   ],
   "source": [
    "df = pd.read_csv('./data/clean/no_outliers.csv')\n",
    "df.head()"
   ]
  },
  {
   "cell_type": "code",
   "execution_count": 3,
   "metadata": {},
   "outputs": [
    {
     "data": {
      "text/plain": [
       "Index(['Category', 'DIY', 'Color 1', 'Color 2', 'Source',\n",
       "       'Seasonal Availability', 'Mannequin Piece', 'Style',\n",
       "       'Villager Equippable'],\n",
       "      dtype='object')"
      ]
     },
     "execution_count": 3,
     "metadata": {},
     "output_type": "execute_result"
    }
   ],
   "source": [
    "# All the features are categorical except for the target\n",
    "label = 'Sell'\n",
    "feats = df.drop(label, axis=1).columns\n",
    "feats"
   ]
  },
  {
   "cell_type": "markdown",
   "metadata": {},
   "source": [
    "# Encode categorical features"
   ]
  },
  {
   "cell_type": "code",
   "execution_count": 4,
   "metadata": {},
   "outputs": [],
   "source": [
    "for feat in feats:\n",
    "    df[feat] = df[feat].astype('category')"
   ]
  },
  {
   "cell_type": "code",
   "execution_count": 5,
   "metadata": {},
   "outputs": [
    {
     "data": {
      "text/html": [
       "<div>\n",
       "<style scoped>\n",
       "    .dataframe tbody tr th:only-of-type {\n",
       "        vertical-align: middle;\n",
       "    }\n",
       "\n",
       "    .dataframe tbody tr th {\n",
       "        vertical-align: top;\n",
       "    }\n",
       "\n",
       "    .dataframe thead th {\n",
       "        text-align: right;\n",
       "    }\n",
       "</style>\n",
       "<table border=\"1\" class=\"dataframe\">\n",
       "  <thead>\n",
       "    <tr style=\"text-align: right;\">\n",
       "      <th></th>\n",
       "      <th>Category</th>\n",
       "      <th>DIY</th>\n",
       "      <th>Color 1</th>\n",
       "      <th>Color 2</th>\n",
       "      <th>Source</th>\n",
       "      <th>Seasonal Availability</th>\n",
       "      <th>Mannequin Piece</th>\n",
       "      <th>Style</th>\n",
       "      <th>Villager Equippable</th>\n",
       "    </tr>\n",
       "  </thead>\n",
       "  <tbody>\n",
       "    <tr>\n",
       "      <th>0</th>\n",
       "      <td>accessories</td>\n",
       "      <td>No</td>\n",
       "      <td>White</td>\n",
       "      <td>Colorful</td>\n",
       "      <td>Able Sisters</td>\n",
       "      <td>All Year</td>\n",
       "      <td>No</td>\n",
       "      <td>Active</td>\n",
       "      <td>Yes</td>\n",
       "    </tr>\n",
       "    <tr>\n",
       "      <th>1</th>\n",
       "      <td>accessories</td>\n",
       "      <td>No</td>\n",
       "      <td>Black</td>\n",
       "      <td>Colorful</td>\n",
       "      <td>Able Sisters</td>\n",
       "      <td>All Year</td>\n",
       "      <td>No</td>\n",
       "      <td>Active</td>\n",
       "      <td>Yes</td>\n",
       "    </tr>\n",
       "    <tr>\n",
       "      <th>2</th>\n",
       "      <td>accessories</td>\n",
       "      <td>No</td>\n",
       "      <td>Beige</td>\n",
       "      <td>White</td>\n",
       "      <td>Able Sisters</td>\n",
       "      <td>All Year</td>\n",
       "      <td>Yes</td>\n",
       "      <td>Active</td>\n",
       "      <td>No</td>\n",
       "    </tr>\n",
       "    <tr>\n",
       "      <th>3</th>\n",
       "      <td>accessories</td>\n",
       "      <td>No</td>\n",
       "      <td>Yellow</td>\n",
       "      <td>Yellow</td>\n",
       "      <td>Able Sisters</td>\n",
       "      <td>All Year</td>\n",
       "      <td>Yes</td>\n",
       "      <td>Cute</td>\n",
       "      <td>No</td>\n",
       "    </tr>\n",
       "    <tr>\n",
       "      <th>4</th>\n",
       "      <td>accessories</td>\n",
       "      <td>No</td>\n",
       "      <td>Yellow</td>\n",
       "      <td>Red</td>\n",
       "      <td>Birthday</td>\n",
       "      <td>All Year</td>\n",
       "      <td>No</td>\n",
       "      <td>Gorgeous</td>\n",
       "      <td>Yes</td>\n",
       "    </tr>\n",
       "  </tbody>\n",
       "</table>\n",
       "</div>"
      ],
      "text/plain": [
       "      Category DIY Color 1   Color 2        Source Seasonal Availability  \\\n",
       "0  accessories  No   White  Colorful  Able Sisters              All Year   \n",
       "1  accessories  No   Black  Colorful  Able Sisters              All Year   \n",
       "2  accessories  No   Beige     White  Able Sisters              All Year   \n",
       "3  accessories  No  Yellow    Yellow  Able Sisters              All Year   \n",
       "4  accessories  No  Yellow       Red      Birthday              All Year   \n",
       "\n",
       "  Mannequin Piece     Style Villager Equippable  \n",
       "0              No    Active                 Yes  \n",
       "1              No    Active                 Yes  \n",
       "2             Yes    Active                  No  \n",
       "3             Yes      Cute                  No  \n",
       "4              No  Gorgeous                 Yes  "
      ]
     },
     "execution_count": 5,
     "metadata": {},
     "output_type": "execute_result"
    }
   ],
   "source": [
    "df[feats].head()"
   ]
  },
  {
   "cell_type": "code",
   "execution_count": 6,
   "metadata": {},
   "outputs": [],
   "source": [
    "cat_mappings = dict()\n",
    "for feat in feats:\n",
    "    feat_mapping = dict(enumerate(df[feat].cat.categories, 1))\n",
    "    feat_mapping[0] = 'unknown'\n",
    "    reverse_mapping = {v: k for k, v in feat_mapping.items()}\n",
    "    cat_mappings[f'{feat}_rev'] = feat_mapping\n",
    "    cat_mappings[feat] = reverse_mapping"
   ]
  },
  {
   "cell_type": "code",
   "execution_count": 7,
   "metadata": {},
   "outputs": [
    {
     "data": {
      "text/plain": [
       "{'accessories': 1,\n",
       " 'bags': 2,\n",
       " 'bottoms': 3,\n",
       " 'dresses': 4,\n",
       " 'shoes': 5,\n",
       " 'socks': 6,\n",
       " 'tops': 7,\n",
       " 'unknown': 0}"
      ]
     },
     "execution_count": 7,
     "metadata": {},
     "output_type": "execute_result"
    }
   ],
   "source": [
    "cat_mappings['Category']"
   ]
  },
  {
   "cell_type": "code",
   "execution_count": 8,
   "metadata": {},
   "outputs": [
    {
     "data": {
      "text/plain": [
       "{1: 'accessories',\n",
       " 2: 'bags',\n",
       " 3: 'bottoms',\n",
       " 4: 'dresses',\n",
       " 5: 'shoes',\n",
       " 6: 'socks',\n",
       " 7: 'tops',\n",
       " 0: 'unknown'}"
      ]
     },
     "execution_count": 8,
     "metadata": {},
     "output_type": "execute_result"
    }
   ],
   "source": [
    "cat_mappings['Category_rev']"
   ]
  },
  {
   "cell_type": "code",
   "execution_count": 9,
   "metadata": {},
   "outputs": [],
   "source": [
    "feat_encoded = [df[feat].map(cat_mappings[feat]).values for feat in feats]"
   ]
  },
  {
   "cell_type": "code",
   "execution_count": 10,
   "metadata": {},
   "outputs": [
    {
     "data": {
      "text/plain": [
       "array([[ 1,  1, 13, ...,  1,  1,  2],\n",
       "       [ 1,  1,  2, ...,  1,  1,  2],\n",
       "       [ 1,  1,  1, ...,  2,  1,  1],\n",
       "       ...,\n",
       "       [ 7,  1,  8, ...,  1,  5,  2],\n",
       "       [ 7,  1, 14, ...,  1,  5,  2],\n",
       "       [ 7,  1,  7, ...,  1,  1,  2]])"
      ]
     },
     "execution_count": 10,
     "metadata": {},
     "output_type": "execute_result"
    }
   ],
   "source": [
    "feat_encoded = np.stack(feat_encoded, axis=1)\n",
    "feat_encoded"
   ]
  },
  {
   "cell_type": "markdown",
   "metadata": {},
   "source": [
    "# Embedding sizes"
   ]
  },
  {
   "cell_type": "code",
   "execution_count": 11,
   "metadata": {},
   "outputs": [],
   "source": [
    "cat_sizes = [len(df[feat].cat.categories.values) for feat in feats]"
   ]
  },
  {
   "cell_type": "code",
   "execution_count": 12,
   "metadata": {},
   "outputs": [
    {
     "data": {
      "text/plain": [
       "[(7, 4), (2, 1), (14, 7), (14, 7), (15, 8), (5, 3), (2, 1), (6, 3), (2, 1)]"
      ]
     },
     "execution_count": 12,
     "metadata": {},
     "output_type": "execute_result"
    }
   ],
   "source": [
    "emb_sizes = [(size, min(50, (size+1)//2)) for size in cat_sizes]\n",
    "emb_sizes"
   ]
  },
  {
   "cell_type": "markdown",
   "metadata": {},
   "source": [
    "# Train Test Split"
   ]
  },
  {
   "cell_type": "code",
   "execution_count": 13,
   "metadata": {},
   "outputs": [],
   "source": [
    "X = feat_encoded\n",
    "y = df[label].values\n",
    "X_train, X_test, y_train, y_test = train_test_split(X, y, test_size=0.2, random_state=2)"
   ]
  },
  {
   "cell_type": "markdown",
   "metadata": {},
   "source": [
    "# Scale target label ('Sell') to 0 - 1 range"
   ]
  },
  {
   "cell_type": "code",
   "execution_count": 14,
   "metadata": {},
   "outputs": [],
   "source": [
    "scaler = MinMaxScaler()\n",
    "y_train = scaler.fit_transform(np.reshape(y_train, (-1, 1)))\n",
    "y_test = scaler.transform(np.reshape(y_test, (-1, 1)))"
   ]
  },
  {
   "cell_type": "code",
   "execution_count": 15,
   "metadata": {},
   "outputs": [
    {
     "data": {
      "text/plain": [
       "((2952, 9), (739, 9), (2952, 1), (739, 1))"
      ]
     },
     "execution_count": 15,
     "metadata": {},
     "output_type": "execute_result"
    }
   ],
   "source": [
    "X_train.shape, X_test.shape, y_train.shape, y_test.shape"
   ]
  },
  {
   "cell_type": "markdown",
   "metadata": {},
   "source": [
    "# Save data, encode mappings, and scaler"
   ]
  },
  {
   "cell_type": "code",
   "execution_count": 16,
   "metadata": {},
   "outputs": [
    {
     "data": {
      "text/plain": [
       "['data/preprocessed/embedding_sizes.pkl']"
      ]
     },
     "execution_count": 16,
     "metadata": {},
     "output_type": "execute_result"
    }
   ],
   "source": [
    "joblib.dump((X_train, X_test, y_train, y_test), './data/preprocessed/train_test_data.pkl')\n",
    "\n",
    "preprocessing = {\n",
    "    'label_scaler': scaler,\n",
    "    'category_mappings': cat_mappings\n",
    "}\n",
    "joblib.dump(preprocessing, './data/preprocessed/preprocessing.pkl')\n",
    "\n",
    "joblib.dump(emb_sizes, \"data/preprocessed/embedding_sizes.pkl\")"
   ]
  },
  {
   "cell_type": "code",
   "execution_count": null,
   "metadata": {},
   "outputs": [],
   "source": []
  }
 ],
 "metadata": {
  "kernelspec": {
   "display_name": "base",
   "language": "python",
   "name": "python3"
  },
  "language_info": {
   "codemirror_mode": {
    "name": "ipython",
    "version": 3
   },
   "file_extension": ".py",
   "mimetype": "text/x-python",
   "name": "python",
   "nbconvert_exporter": "python",
   "pygments_lexer": "ipython3",
   "version": "3.10.9"
  }
 },
 "nbformat": 4,
 "nbformat_minor": 2
}

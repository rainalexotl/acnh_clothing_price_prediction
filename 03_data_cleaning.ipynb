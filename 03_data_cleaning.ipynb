{
 "cells": [
  {
   "cell_type": "markdown",
   "metadata": {},
   "source": [
    "Handle missing values, Drop/fix outliers, Normalize text, fix typos, etc., drop or combine columns..."
   ]
  },
  {
   "cell_type": "code",
   "execution_count": 1,
   "metadata": {},
   "outputs": [
    {
     "name": "stderr",
     "output_type": "stream",
     "text": [
      "/Users/rainalex/anaconda3/lib/python3.10/site-packages/pandas/core/arrays/masked.py:60: UserWarning: Pandas requires version '1.3.6' or newer of 'bottleneck' (version '1.3.5' currently installed).\n",
      "  from pandas.core import (\n"
     ]
    }
   ],
   "source": [
    "import pandas as pd"
   ]
  },
  {
   "cell_type": "code",
   "execution_count": 2,
   "metadata": {},
   "outputs": [],
   "source": [
    "df = pd.read_csv('./data/combined_data.csv')"
   ]
  },
  {
   "cell_type": "markdown",
   "metadata": {},
   "source": [
    "# Drop columns"
   ]
  },
  {
   "cell_type": "code",
   "execution_count": 3,
   "metadata": {},
   "outputs": [],
   "source": [
    "df = df.drop(['Name', 'Variation', 'Buy'], axis=1)"
   ]
  },
  {
   "cell_type": "code",
   "execution_count": 4,
   "metadata": {},
   "outputs": [
    {
     "data": {
      "text/html": [
       "<div>\n",
       "<style scoped>\n",
       "    .dataframe tbody tr th:only-of-type {\n",
       "        vertical-align: middle;\n",
       "    }\n",
       "\n",
       "    .dataframe tbody tr th {\n",
       "        vertical-align: top;\n",
       "    }\n",
       "\n",
       "    .dataframe thead th {\n",
       "        text-align: right;\n",
       "    }\n",
       "</style>\n",
       "<table border=\"1\" class=\"dataframe\">\n",
       "  <thead>\n",
       "    <tr style=\"text-align: right;\">\n",
       "      <th></th>\n",
       "      <th>Category</th>\n",
       "      <th>DIY</th>\n",
       "      <th>Sell</th>\n",
       "      <th>Color 1</th>\n",
       "      <th>Color 2</th>\n",
       "      <th>Source</th>\n",
       "      <th>Seasonal Availability</th>\n",
       "      <th>Mannequin Piece</th>\n",
       "      <th>Style</th>\n",
       "      <th>Villager Equippable</th>\n",
       "    </tr>\n",
       "  </thead>\n",
       "  <tbody>\n",
       "    <tr>\n",
       "      <th>0</th>\n",
       "      <td>accessories</td>\n",
       "      <td>No</td>\n",
       "      <td>122</td>\n",
       "      <td>White</td>\n",
       "      <td>Colorful</td>\n",
       "      <td>Able Sisters</td>\n",
       "      <td>All Year</td>\n",
       "      <td>No</td>\n",
       "      <td>Active</td>\n",
       "      <td>Yes</td>\n",
       "    </tr>\n",
       "    <tr>\n",
       "      <th>1</th>\n",
       "      <td>accessories</td>\n",
       "      <td>No</td>\n",
       "      <td>122</td>\n",
       "      <td>Black</td>\n",
       "      <td>Colorful</td>\n",
       "      <td>Able Sisters</td>\n",
       "      <td>All Year</td>\n",
       "      <td>No</td>\n",
       "      <td>Active</td>\n",
       "      <td>Yes</td>\n",
       "    </tr>\n",
       "    <tr>\n",
       "      <th>2</th>\n",
       "      <td>accessories</td>\n",
       "      <td>No</td>\n",
       "      <td>35</td>\n",
       "      <td>Beige</td>\n",
       "      <td>White</td>\n",
       "      <td>Able Sisters</td>\n",
       "      <td>All Year</td>\n",
       "      <td>Yes</td>\n",
       "      <td>Active</td>\n",
       "      <td>No</td>\n",
       "    </tr>\n",
       "    <tr>\n",
       "      <th>3</th>\n",
       "      <td>accessories</td>\n",
       "      <td>No</td>\n",
       "      <td>122</td>\n",
       "      <td>Yellow</td>\n",
       "      <td>Yellow</td>\n",
       "      <td>Able Sisters</td>\n",
       "      <td>All Year</td>\n",
       "      <td>Yes</td>\n",
       "      <td>Cute</td>\n",
       "      <td>No</td>\n",
       "    </tr>\n",
       "    <tr>\n",
       "      <th>4</th>\n",
       "      <td>accessories</td>\n",
       "      <td>No</td>\n",
       "      <td>620</td>\n",
       "      <td>Yellow</td>\n",
       "      <td>Red</td>\n",
       "      <td>Birthday</td>\n",
       "      <td>All Year</td>\n",
       "      <td>No</td>\n",
       "      <td>Gorgeous</td>\n",
       "      <td>Yes</td>\n",
       "    </tr>\n",
       "    <tr>\n",
       "      <th>...</th>\n",
       "      <td>...</td>\n",
       "      <td>...</td>\n",
       "      <td>...</td>\n",
       "      <td>...</td>\n",
       "      <td>...</td>\n",
       "      <td>...</td>\n",
       "      <td>...</td>\n",
       "      <td>...</td>\n",
       "      <td>...</td>\n",
       "      <td>...</td>\n",
       "    </tr>\n",
       "    <tr>\n",
       "      <th>3877</th>\n",
       "      <td>tops</td>\n",
       "      <td>No</td>\n",
       "      <td>360</td>\n",
       "      <td>Black</td>\n",
       "      <td>Red</td>\n",
       "      <td>Able Sisters</td>\n",
       "      <td>All Year</td>\n",
       "      <td>No</td>\n",
       "      <td>Gorgeous</td>\n",
       "      <td>Yes</td>\n",
       "    </tr>\n",
       "    <tr>\n",
       "      <th>3878</th>\n",
       "      <td>tops</td>\n",
       "      <td>No</td>\n",
       "      <td>360</td>\n",
       "      <td>Pink</td>\n",
       "      <td>Pink</td>\n",
       "      <td>Able Sisters</td>\n",
       "      <td>All Year</td>\n",
       "      <td>No</td>\n",
       "      <td>Gorgeous</td>\n",
       "      <td>Yes</td>\n",
       "    </tr>\n",
       "    <tr>\n",
       "      <th>3879</th>\n",
       "      <td>tops</td>\n",
       "      <td>No</td>\n",
       "      <td>360</td>\n",
       "      <td>Light blue</td>\n",
       "      <td>Blue</td>\n",
       "      <td>Able Sisters</td>\n",
       "      <td>All Year</td>\n",
       "      <td>No</td>\n",
       "      <td>Gorgeous</td>\n",
       "      <td>Yes</td>\n",
       "    </tr>\n",
       "    <tr>\n",
       "      <th>3880</th>\n",
       "      <td>tops</td>\n",
       "      <td>No</td>\n",
       "      <td>360</td>\n",
       "      <td>Yellow</td>\n",
       "      <td>Orange</td>\n",
       "      <td>Able Sisters</td>\n",
       "      <td>All Year</td>\n",
       "      <td>No</td>\n",
       "      <td>Gorgeous</td>\n",
       "      <td>Yes</td>\n",
       "    </tr>\n",
       "    <tr>\n",
       "      <th>3881</th>\n",
       "      <td>tops</td>\n",
       "      <td>No</td>\n",
       "      <td>240</td>\n",
       "      <td>Green</td>\n",
       "      <td>Red</td>\n",
       "      <td>Nook Shopping Catalog</td>\n",
       "      <td>All Year</td>\n",
       "      <td>No</td>\n",
       "      <td>Active</td>\n",
       "      <td>Yes</td>\n",
       "    </tr>\n",
       "  </tbody>\n",
       "</table>\n",
       "<p>3882 rows × 10 columns</p>\n",
       "</div>"
      ],
      "text/plain": [
       "         Category DIY  Sell     Color 1   Color 2                 Source  \\\n",
       "0     accessories  No   122       White  Colorful           Able Sisters   \n",
       "1     accessories  No   122       Black  Colorful           Able Sisters   \n",
       "2     accessories  No    35       Beige     White           Able Sisters   \n",
       "3     accessories  No   122      Yellow    Yellow           Able Sisters   \n",
       "4     accessories  No   620      Yellow       Red               Birthday   \n",
       "...           ...  ..   ...         ...       ...                    ...   \n",
       "3877         tops  No   360       Black       Red           Able Sisters   \n",
       "3878         tops  No   360        Pink      Pink           Able Sisters   \n",
       "3879         tops  No   360  Light blue      Blue           Able Sisters   \n",
       "3880         tops  No   360      Yellow    Orange           Able Sisters   \n",
       "3881         tops  No   240       Green       Red  Nook Shopping Catalog   \n",
       "\n",
       "     Seasonal Availability Mannequin Piece     Style Villager Equippable  \n",
       "0                 All Year              No    Active                 Yes  \n",
       "1                 All Year              No    Active                 Yes  \n",
       "2                 All Year             Yes    Active                  No  \n",
       "3                 All Year             Yes      Cute                  No  \n",
       "4                 All Year              No  Gorgeous                 Yes  \n",
       "...                    ...             ...       ...                 ...  \n",
       "3877              All Year              No  Gorgeous                 Yes  \n",
       "3878              All Year              No  Gorgeous                 Yes  \n",
       "3879              All Year              No  Gorgeous                 Yes  \n",
       "3880              All Year              No  Gorgeous                 Yes  \n",
       "3881              All Year              No    Active                 Yes  \n",
       "\n",
       "[3882 rows x 10 columns]"
      ]
     },
     "execution_count": 4,
     "metadata": {},
     "output_type": "execute_result"
    }
   ],
   "source": [
    "df"
   ]
  },
  {
   "cell_type": "markdown",
   "metadata": {},
   "source": [
    "# Fill empty values"
   ]
  },
  {
   "cell_type": "code",
   "execution_count": 5,
   "metadata": {},
   "outputs": [
    {
     "data": {
      "text/plain": [
       "Category                  0\n",
       "DIY                       0\n",
       "Sell                      0\n",
       "Color 1                   0\n",
       "Color 2                   0\n",
       "Source                    0\n",
       "Seasonal Availability     0\n",
       "Mannequin Piece          96\n",
       "Style                     0\n",
       "Villager Equippable       0\n",
       "dtype: int64"
      ]
     },
     "execution_count": 5,
     "metadata": {},
     "output_type": "execute_result"
    }
   ],
   "source": [
    "df.isna().sum()"
   ]
  },
  {
   "cell_type": "code",
   "execution_count": 6,
   "metadata": {},
   "outputs": [
    {
     "data": {
      "text/plain": [
       "Mannequin Piece\n",
       "No     3423\n",
       "Yes     363\n",
       "NaN      96\n",
       "Name: count, dtype: int64"
      ]
     },
     "execution_count": 6,
     "metadata": {},
     "output_type": "execute_result"
    }
   ],
   "source": [
    "df['Mannequin Piece'].value_counts(dropna=False)"
   ]
  },
  {
   "cell_type": "code",
   "execution_count": 7,
   "metadata": {},
   "outputs": [],
   "source": [
    "df['Mannequin Piece'] = df['Mannequin Piece'].fillna('No')"
   ]
  },
  {
   "cell_type": "code",
   "execution_count": 8,
   "metadata": {},
   "outputs": [
    {
     "data": {
      "text/plain": [
       "Mannequin Piece\n",
       "No     3519\n",
       "Yes     363\n",
       "Name: count, dtype: int64"
      ]
     },
     "execution_count": 8,
     "metadata": {},
     "output_type": "execute_result"
    }
   ],
   "source": [
    "df['Mannequin Piece'].value_counts(dropna=False)"
   ]
  },
  {
   "cell_type": "markdown",
   "metadata": {},
   "source": [
    "# Save with outliers"
   ]
  },
  {
   "cell_type": "code",
   "execution_count": 10,
   "metadata": {},
   "outputs": [],
   "source": [
    "df.to_csv('./data_clean/w_outliers.csv', index=False)"
   ]
  },
  {
   "cell_type": "markdown",
   "metadata": {},
   "source": [
    "# Save without outliers"
   ]
  },
  {
   "cell_type": "code",
   "execution_count": 12,
   "metadata": {},
   "outputs": [],
   "source": [
    "threshold = df['Sell'].quantile(.95)\n",
    "main_df = df[df['Sell'] <= threshold]"
   ]
  },
  {
   "cell_type": "code",
   "execution_count": 13,
   "metadata": {},
   "outputs": [],
   "source": [
    "main_df.to_csv('./data_clean/no_outliers.csv', index=False)"
   ]
  },
  {
   "cell_type": "code",
   "execution_count": null,
   "metadata": {},
   "outputs": [],
   "source": []
  }
 ],
 "metadata": {
  "kernelspec": {
   "display_name": "base",
   "language": "python",
   "name": "python3"
  },
  "language_info": {
   "codemirror_mode": {
    "name": "ipython",
    "version": 3
   },
   "file_extension": ".py",
   "mimetype": "text/x-python",
   "name": "python",
   "nbconvert_exporter": "python",
   "pygments_lexer": "ipython3",
   "version": "3.10.9"
  }
 },
 "nbformat": 4,
 "nbformat_minor": 2
}
